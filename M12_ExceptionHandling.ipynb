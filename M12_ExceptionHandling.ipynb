{
 "cells": [
  {
   "cell_type": "markdown",
   "id": "62091a0f",
   "metadata": {},
   "source": [
    "## Exception Handling"
   ]
  },
  {
   "cell_type": "markdown",
   "id": "a3692c7c",
   "metadata": {},
   "source": [
    "Exeption handling is used to correct issues in your program that would otherwise cause your program to crash (\"runtime errors\" as defined in a previous lecture). For example:"
   ]
  },
  {
   "cell_type": "code",
   "execution_count": null,
   "id": "c7258f89",
   "metadata": {},
   "outputs": [],
   "source": [
    "a = 0\n",
    "b = 5\n",
    "c = b/a #you can't divide by 0!\n",
    "print(\"The result is:\", c)"
   ]
  },
  {
   "cell_type": "markdown",
   "id": "e16bca9b",
   "metadata": {},
   "source": [
    "We can see here that a \"ZeroDivisionError\" was \"raised\". When an exception is raised, the program stops executing (notice that we never made it to the print() statement in the above code). You might say to yourself, \"well, just be sure to not divide by 0\" - but what if \"a\" and \"b\" were passed in with user input? Or read in from a file? You can't always control what the values of your variables will be... \n",
    "\n",
    "Exception handling to the rescue!"
   ]
  },
  {
   "cell_type": "code",
   "execution_count": null,
   "id": "6d941c49",
   "metadata": {},
   "outputs": [],
   "source": [
    "try:\n",
    "    a = 0\n",
    "    b = 5\n",
    "    c = b/a\n",
    "    print(\"The result is:\", c)\n",
    "except ZeroDivisionError:\n",
    "    print(\"The denominator was set to 0... Don't do that!\")"
   ]
  },
  {
   "cell_type": "markdown",
   "id": "e73b8d11",
   "metadata": {},
   "source": [
    "The idea behind exception handling is to put \"dangerous\" code (*i.e.*, code that might throw an error) into a **try block**, then to handle the types of errors that can occur in that try block in an **except block**. The type of error that you are handling should follow the except keyword (e.g., \"ZeroDivisionError\" above). \n",
    "\n",
    "Note: You can also just do a generic \"except\" block (with no specific error) but this is generally frowned upon because that will catch *any* error that occurs in your code in the same way (even unanticipated errors). Sometimes crashing your program is better in the long run (because then you know to fix that specific error) than handling an error in the wrong way."
   ]
  },
  {
   "cell_type": "code",
   "execution_count": null,
   "id": "40074e32",
   "metadata": {},
   "outputs": [],
   "source": [
    "try:\n",
    "    a = 0\n",
    "    b = 5\n",
    "    c = b/a\n",
    "    print(\"The result is:\", c)\n",
    "except:\n",
    "    print(\"The denominator was set to 0... Don't do that!\")"
   ]
  },
  {
   "cell_type": "markdown",
   "id": "9b20a1ba",
   "metadata": {},
   "source": [
    "If there are multiple things that can go wrong in your try block, you can handle them in different ways by using multiple catch blocks."
   ]
  },
  {
   "cell_type": "code",
   "execution_count": null,
   "id": "ad0e0bf8",
   "metadata": {},
   "outputs": [],
   "source": [
    "try:\n",
    "    file = open(\"thisFileDefinitelyDoesntExist.txt\")\n",
    "    a = 0\n",
    "    b = 5\n",
    "    c = b/a\n",
    "    print(\"The result is:\", c)\n",
    "except ZeroDivisionError:\n",
    "    print(\"The denominator was set to 0... Don't do that!\")\n",
    "except FileNotFoundError:\n",
    "    print(\"The file you tried to open did not exist.\")"
   ]
  },
  {
   "cell_type": "markdown",
   "id": "8dcb1c44",
   "metadata": {},
   "source": [
    "An else statement can be added after except clauses to identify code that will only run if none of the exceptions were made."
   ]
  },
  {
   "cell_type": "markdown",
   "id": "bb44d093",
   "metadata": {},
   "source": [
    "If you have a scenario in your code that you want to prohibit, you can **raise** an exception yourself."
   ]
  },
  {
   "cell_type": "code",
   "execution_count": null,
   "id": "07a29ff9",
   "metadata": {},
   "outputs": [],
   "source": [
    "a = int(input(\"Please enter an even integer: \"))\n",
    "if(a % 2 != 0):\n",
    "    raise Exception"
   ]
  },
  {
   "cell_type": "code",
   "execution_count": null,
   "id": "392b0225",
   "metadata": {},
   "outputs": [],
   "source": [
    "#You can also add a message to the exception that you raised\n",
    "a = int(input(\"Please enter an even integer: \"))\n",
    "if(a % 2 != 0):\n",
    "    raise Exception(\"You needed to input an even integer\")"
   ]
  },
  {
   "cell_type": "code",
   "execution_count": null,
   "id": "705bd75b",
   "metadata": {},
   "outputs": [],
   "source": [
    "#You can also raise a specific exception (if it matches your scenario)\n",
    "#ArithmeticError doesn't really fit what we need...\n",
    "a = int(input(\"Please enter an even integer: \"))\n",
    "if(a % 2 != 0):\n",
    "    raise ArithmeticError(\"You needed to input an even integer\")"
   ]
  },
  {
   "cell_type": "markdown",
   "id": "cdc0feb2",
   "metadata": {},
   "source": [
    "# Examples\n",
    "\n",
    "Write a function that asks the user to enter an integer, and continues to ask the user to enter an integer until an integer is input. The function should not crash on any non-integer inputs."
   ]
  },
  {
   "cell_type": "code",
   "execution_count": 7,
   "id": "987fef03",
   "metadata": {},
   "outputs": [
    {
     "name": "stdout",
     "output_type": "stream",
     "text": [
      "Enter your integer: puppy\n",
      "That is not an integer. Try again: \n",
      "Enter your integer: 3.7\n",
      "That is not an integer. Try again: \n",
      "Enter your integer: 7\n",
      "On with the program.\n"
     ]
    }
   ],
   "source": [
    "# let's see what types of errors we might get when the user enters something invalid.\n",
    "# if they enter something non-numeric\n",
    "#a=\"hello\"\n",
    "#b=int(a) # ValueError\n",
    "# if they enter something with a decimal\n",
    "#a = \"3.7\"\n",
    "#b = int(a) # ValueError\n",
    "\n",
    "my_flag = True\n",
    "while my_flag == True:\n",
    "    try:\n",
    "        in_num = input('Enter your integer: ')\n",
    "        if not in_num.isdigit():\n",
    "            raise ValueError\n",
    "        my_flag = False\n",
    "    except ValueError:\n",
    "        print(\"That is not an integer. Try again: \")\n",
    "print(\"On with the program.\")"
   ]
  },
  {
   "cell_type": "markdown",
   "id": "0ecbda96",
   "metadata": {},
   "source": [
    "Write a function that takes in a list of 3 numbers and determines if any two of the numbers sum to the third. The function should not crash if the list does not have three numbers in it (instead it should display a useful message)."
   ]
  },
  {
   "cell_type": "code",
   "execution_count": 6,
   "id": "90a7c99c",
   "metadata": {},
   "outputs": [
    {
     "name": "stdout",
     "output_type": "stream",
     "text": [
      "True\n",
      "False\n",
      "The input list does not have three numbers.\n",
      "None\n"
     ]
    }
   ],
   "source": [
    "# Test for error with an index that doesn't exist\n",
    "# my_list = [0,1]\n",
    "# print(my_list[5]) #IndexError\n",
    "\n",
    "def any_add(in_list):\n",
    "    try:\n",
    "        if in_list[0] + in_list[1] == in_list[2] or in_list[1] + in_list[2] == in_list[0] or in_list[0] + in_list[2] == in_list[1]:\n",
    "            return True\n",
    "        else:\n",
    "            return False\n",
    "    except IndexError:\n",
    "        print(\"The input list does not have three numbers.\")\n",
    "\n",
    "print(any_add([1,2,3]))\n",
    "print(any_add([1,2,4]))\n",
    "print(any_add([1,2]))"
   ]
  },
  {
   "cell_type": "code",
   "execution_count": null,
   "id": "bc78df57",
   "metadata": {},
   "outputs": [],
   "source": []
  }
 ],
 "metadata": {
  "kernelspec": {
   "display_name": "Python 3 (ipykernel)",
   "language": "python",
   "name": "python3"
  },
  "language_info": {
   "codemirror_mode": {
    "name": "ipython",
    "version": 3
   },
   "file_extension": ".py",
   "mimetype": "text/x-python",
   "name": "python",
   "nbconvert_exporter": "python",
   "pygments_lexer": "ipython3",
   "version": "3.9.12"
  }
 },
 "nbformat": 4,
 "nbformat_minor": 5
}
